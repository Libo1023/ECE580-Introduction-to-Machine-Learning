{
 "cells": [
  {
   "cell_type": "markdown",
   "id": "80d70b40",
   "metadata": {},
   "source": [
    "## Reference the Packages/Toolboxes  \n",
    "I use numpy to process intermediate arraies and matrices.  \n",
    "I use pandas to read and process the original dataset.  \n",
    "I use seaborn to draw the kernel density estimate plot for MSE.  \n",
    "I use RepeatedKFold from sklearn to implement 3-10-folds cross-validation.  \n",
    "I use Ridge from sklearn to implement L2 regression.  \n",
    "I use Lasso from sklearn to implement L1 regression.  \n",
    "(Lasso is not used in HW2, but it is useful as another desired norm option when structuring and organizing my code)  \n",
    "I use mean_squared_error from sklearn to calculate the mean square error (MSE)."
   ]
  },
  {
   "cell_type": "code",
   "execution_count": 1,
   "id": "52f9ffb2",
   "metadata": {},
   "outputs": [],
   "source": [
    "import numpy as np\n",
    "import pandas as pd\n",
    "import seaborn as sns\n",
    "from sklearn.model_selection import RepeatedKFold\n",
    "from sklearn.linear_model import Ridge\n",
    "from sklearn.linear_model import Lasso\n",
    "from sklearn.metrics import mean_squared_error"
   ]
  },
  {
   "cell_type": "markdown",
   "id": "e126a5fb",
   "metadata": {},
   "source": [
    "## Beginning of Data Preprocessing  \n",
    "Note: Data Preprocessing section has already been completed in Homework 1.  \n",
    "The purpose of this section is to help extract X_one, X_two, X_three, and y for my 3 proposed models.  \n",
    "X and y will be regarded as \"a given data set\" when I structure and organize my code in Homework 2."
   ]
  },
  {
   "cell_type": "code",
   "execution_count": 2,
   "id": "cab2c6ed",
   "metadata": {},
   "outputs": [],
   "source": [
    "filename = \"imports-85.data\"\n",
    "dataframe = pd.read_csv(filename, header = None)"
   ]
  },
  {
   "cell_type": "code",
   "execution_count": 3,
   "id": "d9527f87",
   "metadata": {},
   "outputs": [
    {
     "name": "stdout",
     "output_type": "stream",
     "text": [
      "The number of data points in the original data set is: 205\n"
     ]
    }
   ],
   "source": [
    "print(\"The number of data points in the original data set is: \" + str(len(dataframe)))"
   ]
  },
  {
   "cell_type": "code",
   "execution_count": 4,
   "id": "d7a7a454",
   "metadata": {},
   "outputs": [],
   "source": [
    "# All 26 attributes in the data frame.\n",
    "all_attributes = [\"symboling\", \"normalized-losses\", \"make\", \n",
    "                  \"fuel-type\", \"aspiration\", \"num-of-doors\", \n",
    "                  \"body-style\", \"drive-wheels\", \"engine-location\", \n",
    "                  \"wheel-base\", \"length\", \"width\", \n",
    "                  \"height\", \"curb-weight\", \"engine-type\", \n",
    "                  \"num-of-cylinders\", \"engine-size\", \"fuel-system\", \n",
    "                  \"bore\", \"stroke\", \"compression-ratio\", \n",
    "                  \"horsepower\", \"peak-rpm\", \"city-mpg\", \n",
    "                  \"highway-mpg\", \"price\"]\n",
    "# Restrict ourselves to the 13 continuous predictor variables.\n",
    "features = [\"wheel-base\", \"length\", \"width\", \n",
    "            \"height\", \"curb-weight\", \"engine-size\", \n",
    "            \"bore\", \"stroke\", \"compression-ratio\", \n",
    "            \"horsepower\", \"peak-rpm\", \"city-mpg\", \"highway-mpg\"]\n",
    "# Define the target variable.\n",
    "target = \"price\"\n",
    "# Assign each attribute to each column of the data frame correspondingly.\n",
    "# This is because the original data set does not contain such information.\n",
    "dataframe.columns = all_attributes"
   ]
  },
  {
   "cell_type": "code",
   "execution_count": 5,
   "id": "a148ed09",
   "metadata": {},
   "outputs": [
    {
     "name": "stdout",
     "output_type": "stream",
     "text": [
      "Number of data points in my data frame before Step 1: 205\n",
      "Number of data points in my data frame after Step 1: 205\n",
      "Number of data points removed at Step 1: 0\n"
     ]
    }
   ],
   "source": [
    "# Step 1 - Remove the (non-continuous) features that are not of interest.\n",
    "old_len = len(dataframe)\n",
    "for attribute in all_attributes :\n",
    "    if (attribute not in features) and (attribute != target) :\n",
    "        dataframe.drop(attribute, axis = 1, inplace = True)\n",
    "    else :\n",
    "        continue\n",
    "new_len = len(dataframe)\n",
    "print(\"Number of data points in my data frame before Step 1: \" + str(old_len))\n",
    "print(\"Number of data points in my data frame after Step 1: \" + str(new_len))\n",
    "print(\"Number of data points removed at Step 1: \" + str(old_len - new_len))"
   ]
  },
  {
   "cell_type": "code",
   "execution_count": 6,
   "id": "4d10d68c",
   "metadata": {},
   "outputs": [
    {
     "name": "stdout",
     "output_type": "stream",
     "text": [
      "Number of data points in my data frame before Step 2: 205\n",
      "Number of data points in my data frame after Step 2: 201\n",
      "Number of data points removed at Step 2: 4\n"
     ]
    }
   ],
   "source": [
    "# Step 2 - Remove any data points for which the target variable (price) is unknown.\n",
    "old_len = len(dataframe)\n",
    "dataframe = dataframe[dataframe[target] != \"?\"]\n",
    "new_len = len(dataframe)\n",
    "print(\"Number of data points in my data frame before Step 2: \" + str(old_len))\n",
    "print(\"Number of data points in my data frame after Step 2: \" + str(new_len))\n",
    "print(\"Number of data points removed at Step 2: \" + str(old_len - new_len))"
   ]
  },
  {
   "cell_type": "code",
   "execution_count": 7,
   "id": "95de3a0a",
   "metadata": {},
   "outputs": [
    {
     "name": "stdout",
     "output_type": "stream",
     "text": [
      "Number of data points in my data frame before Step 3: 201\n",
      "Number of data points in my data frame after Step 3: 195\n",
      "Number of data points removed at Step 3: 6\n"
     ]
    }
   ],
   "source": [
    "# Step 3 - Remove any data points for which the continuous predictor variables are unknown.\n",
    "old_len = len(dataframe)\n",
    "for feature in features :\n",
    "    dataframe = dataframe[dataframe[feature] != \"?\"]\n",
    "new_len = len(dataframe)\n",
    "print(\"Number of data points in my data frame before Step 3: \" + str(old_len))\n",
    "print(\"Number of data points in my data frame after Step 3: \" + str(new_len))\n",
    "print(\"Number of data points removed at Step 3: \" + str(old_len - new_len))"
   ]
  },
  {
   "cell_type": "code",
   "execution_count": 8,
   "id": "f9ad0d77",
   "metadata": {},
   "outputs": [
    {
     "name": "stdout",
     "output_type": "stream",
     "text": [
      "(195, 13)\n",
      "(195,)\n"
     ]
    }
   ],
   "source": [
    "# Do some housekeeping in this block.\n",
    "df_numpy = dataframe.to_numpy()\n",
    "for j in range(df_numpy.shape[1]) :\n",
    "    for i in range(df_numpy.shape[0]) :\n",
    "        df_numpy[i, j] = float(df_numpy[i, j])\n",
    "features_matrix = df_numpy[:, 0:13]\n",
    "target_vector = df_numpy[:, 13]\n",
    "df_numpy = df_numpy.astype(np.float64)\n",
    "print(features_matrix.shape)\n",
    "print(target_vector.shape)"
   ]
  },
  {
   "cell_type": "code",
   "execution_count": 9,
   "id": "28e48a2f",
   "metadata": {},
   "outputs": [],
   "source": [
    "# Do some housekeeping in this block.\n",
    "wheelbase  = np.copy(df_numpy[:, 0])\n",
    "length     = np.copy(df_numpy[:, 1])\n",
    "width      = np.copy(df_numpy[:, 2])\n",
    "height     = np.copy(df_numpy[:, 3])\n",
    "curbweight = np.copy(df_numpy[:, 4])\n",
    "enginesize = np.copy(df_numpy[:, 5])\n",
    "bore       = np.copy(df_numpy[:, 6])\n",
    "stroke     = np.copy(df_numpy[:, 7])\n",
    "comratio   = np.copy(df_numpy[:, 8])\n",
    "horsepower = np.copy(df_numpy[:, 9])\n",
    "peakrpm    = np.copy(df_numpy[:, 10])\n",
    "citympg    = np.copy(df_numpy[:, 11])\n",
    "highwaympg = np.copy(df_numpy[:, 12])"
   ]
  },
  {
   "cell_type": "code",
   "execution_count": 10,
   "id": "32f5ec13",
   "metadata": {},
   "outputs": [
    {
     "name": "stdout",
     "output_type": "stream",
     "text": [
      "(195, 1)\n",
      "(195, 2)\n",
      "(195, 4)\n",
      "(195,)\n"
     ]
    }
   ],
   "source": [
    "# Do some housekeeping in this block.\n",
    "X_one = enginesize.reshape(-1, 1) \n",
    "\n",
    "X_two = np.column_stack((enginesize, horsepower))\n",
    "\n",
    "X_three = np.column_stack((enginesize, horsepower, \n",
    "                           width, width * width))\n",
    "\n",
    "y = df_numpy[:, -1]\n",
    "\n",
    "print(X_one.shape)\n",
    "print(X_two.shape)\n",
    "print(X_three.shape)\n",
    "print(y.shape)"
   ]
  },
  {
   "cell_type": "markdown",
   "id": "ef2fdd30",
   "metadata": {},
   "source": [
    "## Ending of Data Preprocessing"
   ]
  },
  {
   "cell_type": "markdown",
   "id": "d86ec8c7",
   "metadata": {},
   "source": [
    "## Beginning of Codes for Homework 2"
   ]
  },
  {
   "cell_type": "code",
   "execution_count": 11,
   "id": "e84d55bf",
   "metadata": {},
   "outputs": [],
   "source": [
    "def build_model (X, y,           # a given dataset\n",
    "                 alpha,          # the desired regularization\n",
    "                 norm = \"L2\",    # the desired norm\n",
    "                 R = 3, K = 10): # the desired cross-validation parameters\n",
    "    rkf = RepeatedKFold(n_splits = K, n_repeats = R, \n",
    "                        # Pass an int for reproducible output\n",
    "                        # across multiple function calls\n",
    "                        random_state = 5)\n",
    "    count = 0\n",
    "    total_samples = R * K\n",
    "    coef_list = np.zeros((total_samples, 1 + X.shape[1]))\n",
    "    mse_list = np.zeros(total_samples)\n",
    "    for train_index, test_index in rkf.split(X) :\n",
    "        X_train, X_test = X[train_index], X[test_index]\n",
    "        y_train, y_test = y[train_index], y[test_index]\n",
    "        if norm == \"L2\" :\n",
    "            model = Ridge(alpha = alpha)\n",
    "        if norm == \"L1\" :\n",
    "            model = Lasso(alpha = alpha)\n",
    "        model.fit(X_train, y_train)\n",
    "        coef_list[count, 0] = model.intercept_\n",
    "        coef_list[count, 1:] = model.coef_\n",
    "        preds = model.predict(X_test)\n",
    "        mse_list[count] = mean_squared_error(y_true = y_test, \n",
    "                                             y_pred = preds)\n",
    "        count = count + 1\n",
    "    return coef_list, mse_list"
   ]
  },
  {
   "cell_type": "code",
   "execution_count": 12,
   "id": "c6c13000",
   "metadata": {},
   "outputs": [],
   "source": [
    "def E_mse (mse_list) :\n",
    "    mse_sum = 0\n",
    "    for mse in mse_list :\n",
    "        mse_sum = mse_sum + mse\n",
    "    avg_mse = float(mse_sum) / len(mse_list)\n",
    "    return avg_mse\n",
    "\n",
    "def plot_kde (mse_list) :\n",
    "    sns.kdeplot(data = mse_list, multiple = \"stack\")\n",
    "    return None\n",
    "\n",
    "def reconstruct_model (Xn, coef_list, l) :\n",
    "    yl_Xn = 0\n",
    "    for i in range(1 + len(Xn)) :\n",
    "        if i == 0 :\n",
    "            yl_Xn = yl_Xn + coef_list[l, i]\n",
    "        else :\n",
    "            yl_Xn = yl_Xn + coef_list[l, i] * Xn[i - 1]\n",
    "    return yl_Xn\n",
    "\n",
    "def calculate_avgpred (Xn, coef_list) :\n",
    "    L = len(coef_list)\n",
    "    yn_sum = 0\n",
    "    yn_avg = 0\n",
    "    for l in range(L) :\n",
    "        yn_sum = yn_sum + reconstruct_model(Xn, coef_list, l)\n",
    "    yn_avg = float(yn_sum) / L\n",
    "    return yn_avg"
   ]
  },
  {
   "cell_type": "code",
   "execution_count": 13,
   "id": "ecb67c43",
   "metadata": {},
   "outputs": [],
   "source": [
    "def calculate_variance (X, coef_list) :\n",
    "    N = X.shape[0]\n",
    "    L = len(coef_list)\n",
    "    sum_inside = 0\n",
    "    avg_inside = 0\n",
    "    sum_outside = 0\n",
    "    avg_outside = 0   # variance = avg_outside\n",
    "    for n in range(N) :\n",
    "        Xn = X[n]\n",
    "        yn_avg = calculate_avgpred(Xn, coef_list)\n",
    "        for l in range(L) :\n",
    "            subdiff = reconstruct_model(Xn, coef_list, l) - yn_avg\n",
    "            sub_sqr = subdiff * subdiff\n",
    "            sum_inside = sum_inside + sub_sqr\n",
    "        avg_inside = float(sum_inside) / L\n",
    "        \n",
    "        sum_inside = 0\n",
    "        \n",
    "        sum_outside = sum_outside + avg_inside\n",
    "    avg_outside = float(sum_outside) / N\n",
    "    return avg_outside\n",
    "\n",
    "def calculate_bias_noise (X, coef_list, mse_list) :\n",
    "    # E{MSE} = variance + (bias)^2 + noise_variance\n",
    "    # (bias)^2 + noise_variance = E{MSE} - variance\n",
    "    result = E_mse(mse_list) - calculate_variance(X, coef_list)\n",
    "    return result"
   ]
  },
  {
   "cell_type": "code",
   "execution_count": 14,
   "id": "148ee786",
   "metadata": {},
   "outputs": [],
   "source": [
    "# The final \"exam\" for structuring and organizing my code\n",
    "\n",
    "def model_summary (X, y,           # a given data set\n",
    "                   alpha,          # the desired regularization\n",
    "                   norm = \"L2\",    # the desired norm\n",
    "                   R = 3, K = 10): # the desired cross-validation parameters\n",
    "    \n",
    "    coef_list, mse_list = build_model(X = X, y = y, alpha = alpha, \n",
    "                                      norm = \"L2\", \n",
    "                                      R = 3, K = 10)\n",
    "    avg_mse = E_mse(mse_list)\n",
    "    variance = calculate_variance(X, coef_list)\n",
    "    bias_noise = calculate_bias_noise(X, coef_list, mse_list)\n",
    "    print(\"Model E{MSE}                      = %.4f\" % avg_mse)\n",
    "    print(\"Model variance                    = %.4f\" % variance)\n",
    "    print(\"Model [(bias)^2 + noise_variance] = %.4f\" % bias_noise)\n",
    "    print(\" \")\n",
    "    print(\"Plot a kernel density estimate for MSE of this model below\")\n",
    "    plot_kde(mse_list)\n",
    "    return None"
   ]
  },
  {
   "cell_type": "code",
   "execution_count": 15,
   "id": "db23372f",
   "metadata": {},
   "outputs": [
    {
     "name": "stdout",
     "output_type": "stream",
     "text": [
      "Model E{MSE}                      = 13906846.8970\n",
      "Model variance                    = 19229.8665\n",
      "Model [(bias)^2 + noise_variance] = 13887617.0305\n",
      " \n",
      "Plot a kernel density estimate for MSE of this model below\n"
     ]
    },
    {
     "data": {
      "image/png": "[encoded data removed]",
      "text/plain": [
       "<Figure size 432x288 with 1 Axes>"
      ]
     },
     "metadata": {
      "needs_background": "light"
     },
     "output_type": "display_data"
    }
   ],
   "source": [
    "# Cross Validation Section\n",
    "# Model 1\n",
    "# Total Model 1\n",
    "model_summary(X_one, y, alpha = 0, norm = \"L2\", R = 3, K = 10)"
   ]
  },
  {
   "cell_type": "code",
   "execution_count": 16,
   "id": "701c9b14",
   "metadata": {},
   "outputs": [
    {
     "name": "stdout",
     "output_type": "stream",
     "text": [
      "Model E{MSE}                      = 13331364.1512\n",
      "Model variance                    = 34071.1321\n",
      "Model [(bias)^2 + noise_variance] = 13297293.0191\n",
      " \n",
      "Plot a kernel density estimate for MSE of this model below\n"
     ]
    },
    {
     "data": {
      "image/png": "[encoded data removed]",
      "text/plain": [
       "<Figure size 432x288 with 1 Axes>"
      ]
     },
     "metadata": {
      "needs_background": "light"
     },
     "output_type": "display_data"
    }
   ],
   "source": [
    "# Cross Validation Section\n",
    "# Model 2\n",
    "# Total Model 2\n",
    "model_summary(X_two, y, alpha = 0, norm = \"L2\", R = 3, K = 10)"
   ]
  },
  {
   "cell_type": "code",
   "execution_count": 17,
   "id": "18d1f42e",
   "metadata": {},
   "outputs": [
    {
     "name": "stdout",
     "output_type": "stream",
     "text": [
      "Model E{MSE}                      = 10787609.9029\n",
      "Model variance                    = 37997.0926\n",
      "Model [(bias)^2 + noise_variance] = 10749612.8103\n",
      " \n",
      "Plot a kernel density estimate for MSE of this model below\n"
     ]
    },
    {
     "data": {
      "image/png": "[encoded data removed]",
      "text/plain": [
       "<Figure size 432x288 with 1 Axes>"
      ]
     },
     "metadata": {
      "needs_background": "light"
     },
     "output_type": "display_data"
    }
   ],
   "source": [
    "# Cross Validation Section\n",
    "# Model 3\n",
    "# Total Model 3\n",
    "model_summary(X_three, y, alpha = 0, norm = \"L2\", R = 3, K = 10)"
   ]
  },
  {
   "cell_type": "code",
   "execution_count": 18,
   "id": "09b76dcc",
   "metadata": {},
   "outputs": [
    {
     "name": "stdout",
     "output_type": "stream",
     "text": [
      "Model E{MSE}                      = 13932504.3158\n",
      "Model variance                    = 17383.1476\n",
      "Model [(bias)^2 + noise_variance] = 13915121.1682\n",
      " \n",
      "Plot a kernel density estimate for MSE of this model below\n"
     ]
    },
    {
     "data": {
      "image/png": "[encoded data removed]",
      "text/plain": [
       "<Figure size 432x288 with 1 Axes>"
      ]
     },
     "metadata": {
      "needs_background": "light"
     },
     "output_type": "display_data"
    }
   ],
   "source": [
    "# Regularization Section\n",
    "# Model 1\n",
    "# Total model 4\n",
    "model_summary(X_one, y, alpha = 10000, norm = \"L2\", R = 3, K = 10)"
   ]
  },
  {
   "cell_type": "code",
   "execution_count": 19,
   "id": "158325e1",
   "metadata": {},
   "outputs": [
    {
     "name": "stdout",
     "output_type": "stream",
     "text": [
      "Model E{MSE}                      = 13345028.5078\n",
      "Model variance                    = 29976.9704\n",
      "Model [(bias)^2 + noise_variance] = 13315051.5374\n",
      " \n",
      "Plot a kernel density estimate for MSE of this model below\n"
     ]
    },
    {
     "data": {
      "image/png": "[encoded data removed]",
      "text/plain": [
       "<Figure size 432x288 with 1 Axes>"
      ]
     },
     "metadata": {
      "needs_background": "light"
     },
     "output_type": "display_data"
    }
   ],
   "source": [
    "# Regularization Section\n",
    "# Model 2\n",
    "# Total Model 5\n",
    "model_summary(X_two, y, alpha = 10000, norm = \"L2\", R = 3, K = 10)"
   ]
  },
  {
   "cell_type": "code",
   "execution_count": 20,
   "id": "8fbbef7a",
   "metadata": {},
   "outputs": [
    {
     "name": "stdout",
     "output_type": "stream",
     "text": [
      "Model E{MSE}                      = 11450997.9716\n",
      "Model variance                    = 36076.6187\n",
      "Model [(bias)^2 + noise_variance] = 11414921.3530\n",
      " \n",
      "Plot a kernel density estimate for MSE of this model below\n"
     ]
    },
    {
     "data": {
      "image/png": "[encoded data removed]",
      "text/plain": [
       "<Figure size 432x288 with 1 Axes>"
      ]
     },
     "metadata": {
      "needs_background": "light"
     },
     "output_type": "display_data"
    }
   ],
   "source": [
    "# Regularization Section\n",
    "# Model 3\n",
    "# Total Model 6\n",
    "model_summary(X_three, y, alpha = 1, norm = \"L2\", R = 3, K = 10)"
   ]
  },
  {
   "cell_type": "markdown",
   "id": "a8c2a274",
   "metadata": {},
   "source": [
    "## Ending of Codes for Homework 2"
   ]
  },
  {
   "cell_type": "code",
   "execution_count": null,
   "id": "eadddec2",
   "metadata": {},
   "outputs": [],
   "source": []
  },
  {
   "cell_type": "code",
   "execution_count": null,
   "id": "05dde266",
   "metadata": {},
   "outputs": [],
   "source": []
  },
  {
   "cell_type": "code",
   "execution_count": null,
   "id": "87a92771",
   "metadata": {},
   "outputs": [],
   "source": []
  }
 ],
 "metadata": {
  "kernelspec": {
   "display_name": "Python 3 (ipykernel)",
   "language": "python",
   "name": "python3"
  },
  "language_info": {
   "codemirror_mode": {
    "name": "ipython",
    "version": 3
   },
   "file_extension": ".py",
   "mimetype": "text/x-python",
   "name": "python",
   "nbconvert_exporter": "python",
   "pygments_lexer": "ipython3",
   "version": "3.9.7"
  }
 },
 "nbformat": 4,
 "nbformat_minor": 5
}
